{
 "cells": [
  {
   "cell_type": "code",
   "execution_count": 7,
   "metadata": {},
   "outputs": [],
   "source": [
    "% matplotlib inline\n",
    "import pandas as pd\n",
    "import numpy as np\n",
    "from scipy.io import loadmat\n",
    "import matplotlib.pyplot as plt\n",
    "import scipy.optimize as opt\n",
    "\n",
    "\n"
   ]
  },
  {
   "cell_type": "code",
   "execution_count": 8,
   "metadata": {},
   "outputs": [],
   "source": [
    "def cofiCostFunc(param, Y, R, nm, nu, nf, l=0):\n",
    "    \"\"\"\n",
    "    X:电影特征(nm,nf)\n",
    "    theta:评分参数(nu,nf)\n",
    "    Y : 评分矩阵 (nm, nu)\n",
    "    R ：0-1矩阵，表示用户对某一电影有无评分\n",
    "    nu : 用户数量\n",
    "    nm : 电影数量\n",
    "    nf : 自定义的特征的维度\n",
    "    l : lambda for regularization\n",
    "    \"\"\"\n",
    "    X,theta=deserialize(param,nm,nu,nf)\n",
    "    # (X@Theta)*R含义如下： 因为X@Theta是我们用自定义参数算的评分，但是有些电影本来是没有人\n",
    "    # 评分的，存储在R中，0-1表示。将这两个相乘，得到的值就是我们要的已经被评分过的电影的预测分数。\n",
    "    error = 0.5*np.square((X@theta.T - Y)*R).sum()\n",
    "    reg1 = .5*l*np.square(theta).sum()\n",
    "    reg2 = .5*l*np.square(X).sum()\n",
    "    \n",
    "    return error + reg1 +reg2\n",
    "def cofiGradient(param, Y, R, nm, nu, nf, l=0):\n",
    "    \"\"\"\n",
    "    计算X和Theta的梯度，并序列化输出。\n",
    "    \"\"\"\n",
    "    X,theta=deserialize(param,nm,nu,nf)\n",
    "    X_grad = ((X@theta.T-Y)*R)@theta + l*X #(nm,nf)@(nf,nu)-(nm,nu)\n",
    "    theta_grad = ((X@theta.T-Y)*R).T@X + l*theta#((nm,nf)@(nf,nu)).T@(nm,nf)\n",
    "    \n",
    "    return serialize(X_grad,theta_grad)\n",
    "def serialize(X, Theta):\n",
    "    #打包参数\n",
    "    return np.r_[X.flatten(),Theta.flatten()]\n",
    "def deserialize(seq, nm, nu, nf):\n",
    "    #解包参数\n",
    "    return seq[:nm*nf].reshape(nm, nf), seq[nm*nf:].reshape(nu, nf)\n",
    "\n"
   ]
  },
  {
   "cell_type": "code",
   "execution_count": 9,
   "metadata": {},
   "outputs": [],
   "source": [
    "movies = []  # 包含所有电影的列表\n",
    "with open('movie_ids.txt','r', encoding='latin-1') as f:\n",
    "    for line in f:\n",
    "        movies.append(' '.join(line.strip().split(' ')[1:]))\n",
    "mat = loadmat('ex8_movies.mat')\n",
    "Y, R = mat['Y'], mat['R']\n"
   ]
  },
  {
   "cell_type": "code",
   "execution_count": 10,
   "metadata": {},
   "outputs": [],
   "source": [
    "my_ratings = np.zeros((1682,1))\n",
    "\n",
    "my_ratings[0]   = 4\n",
    "my_ratings[97]  = 2\n",
    "my_ratings[6]   = 3\n",
    "my_ratings[11]  = 5\n",
    "my_ratings[53]  = 4\n",
    "my_ratings[63]  = 5\n",
    "my_ratings[65]  = 3\n",
    "my_ratings[68]  = 5\n",
    "my_ratings[182] = 4\n",
    "my_ratings[225] = 5\n",
    "my_ratings[354] = 5\n",
    "Y = np.c_[Y, my_ratings]  # (1682, 944)\n",
    "R = np.c_[R, my_ratings!=0]  # (1682, 944)\n",
    "nm, nu = Y.shape\n"
   ]
  },
  {
   "cell_type": "code",
   "execution_count": 11,
   "metadata": {},
   "outputs": [],
   "source": [
    "X = np.random.random((nm, nf))\n",
    "theta = np.random.random((nu, nf))\n",
    "param=serialize(X,theta)\n",
    "l=0.3\n",
    "nf=100\n",
    "\n",
    "\n",
    "res = opt.minimize(fun=cofiCostFunc,\n",
    "                   x0=param,\n",
    "                   args=(Y, R, nm, nu, nf, l),\n",
    "                   method='TNC',\n",
    "                   jac=cofiGradient,\n",
    "                   options={'maxiter': 100})\n",
    "\n",
    "ret = res.x\n"
   ]
  },
  {
   "cell_type": "code",
   "execution_count": 12,
   "metadata": {},
   "outputs": [],
   "source": [
    "fit_X, fit_Theta = deserialize(ret, nm, nu, nf)"
   ]
  },
  {
   "cell_type": "code",
   "execution_count": 13,
   "metadata": {},
   "outputs": [
    {
     "data": {
      "text/plain": [
       "array([[4.82962461, 3.91685134, 3.12450707, ..., 4.2623316 , 3.5601146 ,\n",
       "        3.7675776 ],\n",
       "       [1.90442107, 3.08937695, 2.03682028, ..., 3.43500391, 4.69510986,\n",
       "        5.15849467],\n",
       "       [4.45686389, 3.39821284, 2.52173006, ..., 3.06068587, 1.78509392,\n",
       "        4.78901859],\n",
       "       ...,\n",
       "       [3.90958057, 5.68034152, 4.84676597, ..., 5.84371227, 5.25202303,\n",
       "        8.4066665 ],\n",
       "       [4.32335656, 6.48007137, 3.11908841, ..., 6.50026939, 4.21424328,\n",
       "        7.73647403],\n",
       "       [4.89222967, 6.03094126, 4.88977997, ..., 5.72773016, 4.27654788,\n",
       "        7.21104202]])"
      ]
     },
     "execution_count": 13,
     "metadata": {},
     "output_type": "execute_result"
    }
   ],
   "source": [
    "# 所有用户的剧场分数矩阵\n",
    "pred_mat = fit_X @ fit_Theta.T\n",
    "pred_mat"
   ]
  },
  {
   "cell_type": "code",
   "execution_count": 17,
   "metadata": {},
   "outputs": [
    {
     "data": {
      "text/plain": [
       "array([[5., 4., 0., ..., 0., 0., 4.],\n",
       "       [3., 0., 0., ..., 0., 5., 0.],\n",
       "       [4., 0., 0., ..., 0., 0., 0.],\n",
       "       ...,\n",
       "       [0., 0., 0., ..., 0., 0., 0.],\n",
       "       [0., 0., 0., ..., 0., 0., 0.],\n",
       "       [0., 0., 0., ..., 0., 0., 0.]])"
      ]
     },
     "execution_count": 17,
     "metadata": {},
     "output_type": "execute_result"
    }
   ],
   "source": [
    "Y"
   ]
  },
  {
   "cell_type": "code",
   "execution_count": null,
   "metadata": {},
   "outputs": [],
   "source": []
  }
 ],
 "metadata": {
  "kernelspec": {
   "display_name": "Python 3",
   "language": "python",
   "name": "python3"
  },
  "language_info": {
   "codemirror_mode": {
    "name": "ipython",
    "version": 3
   },
   "file_extension": ".py",
   "mimetype": "text/x-python",
   "name": "python",
   "nbconvert_exporter": "python",
   "pygments_lexer": "ipython3",
   "version": "3.7.0"
  }
 },
 "nbformat": 4,
 "nbformat_minor": 2
}
