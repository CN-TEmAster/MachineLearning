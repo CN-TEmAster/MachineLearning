{
 "cells": [
  {
   "cell_type": "code",
   "execution_count": 183,
   "metadata": {},
   "outputs": [],
   "source": [
    "import numpy as np\n",
    "import matplotlib.pyplot as plt\n",
    "import scipy.optimize as opt\n"
   ]
  },
  {
   "cell_type": "code",
   "execution_count": 232,
   "metadata": {},
   "outputs": [],
   "source": [
    "def readData(filename):\n",
    "    f = open(filename)\n",
    "    ret=[]\n",
    "    for each_line in f.readlines():\n",
    "        data_arr=each_line.strip().split(\",\")\n",
    "        temp=[]\n",
    "        for i in range(len(data_arr)):\n",
    "            temp.append(float(data_arr[i]))\n",
    "        ret.append(temp)\n",
    "    return np.array(ret)\n",
    "def sigmoid(x):\n",
    "    return 1/(1+np.exp(-x))\n",
    "def h(theta,x):\n",
    "    return sigmoid(np.dot(x,theta))\n",
    "def cost(theta,X,y):\n",
    "    first = (-y) * np.log(h(theta,X))\n",
    "    second = (1 - y)*np.log(1-h(theta,X))\n",
    "    return np.mean(first - second)\n",
    "def gradient(theta, X, y):\n",
    "    return (X.T.dot(h(theta,X) - y))/len(X)  \n"
   ]
  },
  {
   "cell_type": "code",
   "execution_count": 235,
   "metadata": {
    "scrolled": true
   },
   "outputs": [
    {
     "data": {
      "image/png": "[encoded data removed]",
      "text/plain": [
       "<Figure size 432x288 with 1 Axes>"
      ]
     },
     "metadata": {
      "needs_background": "light"
     },
     "output_type": "display_data"
    }
   ],
   "source": [
    "data = readData(\"ex2data1.txt\")\n",
    "x = data[:,:-1]\n",
    "y = data[:,-1]\n",
    "m=x.shape[0]#样本的数目\n",
    "n=x.shape[1]#特征的数目\n",
    "one=np.ones([m,1])\n",
    "X=np.hstack([one,x])\n",
    "theta=np.zeros(n+1)\n",
    "\n",
    "result = opt.fmin_tnc(func=cost, x0=theta, fprime=gradient, args=(X, y))\n",
    "\n",
    "plt.subplot(1,2,1)\n",
    "label0 = np.where(y.ravel() == 0)\n",
    "plt.scatter(x[label0,0],x[label0,1],marker='x',color = 'r')\n",
    "label1 = np.where(y.ravel() == 1)\n",
    "plt.scatter(x[label1,0],x[label1,1],marker='o',color = 'b')\n",
    "\n",
    "theta=result[0]\n",
    "x_draw1=np.arange(20,100,0.5)\n",
    "x_draw2=(-theta[0]-theta[1]*x_draw1)/theta[2]\n",
    "\n",
    "plt.plot(x_draw1,x_draw2,\"-\")\n",
    "plt.show()\n"
   ]
  },
  {
   "cell_type": "code",
   "execution_count": null,
   "metadata": {},
   "outputs": [],
   "source": []
  }
 ],
 "metadata": {
  "kernelspec": {
   "display_name": "Python 3",
   "language": "python",
   "name": "python3"
  },
  "language_info": {
   "codemirror_mode": {
    "name": "ipython",
    "version": 3
   },
   "file_extension": ".py",
   "mimetype": "text/x-python",
   "name": "python",
   "nbconvert_exporter": "python",
   "pygments_lexer": "ipython3",
   "version": "3.7.0"
  }
 },
 "nbformat": 4,
 "nbformat_minor": 2
}
