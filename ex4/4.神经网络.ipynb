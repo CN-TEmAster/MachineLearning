{
 "cells": [
  {
   "cell_type": "code",
   "execution_count": 7,
   "metadata": {},
   "outputs": [],
   "source": [
    "import numpy as np\n",
    "import matplotlib.pyplot as plt\n",
    "from scipy import optimize\n",
    "from scipy.io import loadmat\n",
    "from sklearn.metrics import classification_report"
   ]
  },
  {
   "cell_type": "code",
   "execution_count": 16,
   "metadata": {},
   "outputs": [],
   "source": [
    "#y的label应该是0到9 但是实际上y的label为10 1 2 3 4 5 6 7 8 9 所以将label调整为0-9\n",
    "def Adjust_label(y):\n",
    "    idxs=np.flatnonzero(y==10)\n",
    "    y[idxs]=0\n",
    "    return y\n",
    "#展示数据中的数字\n",
    "def show_data(X,y,num_img_show=5):\n",
    "    classes=['0','1','2','3','4','5','6','7','8','9']\n",
    "    cla_len=len(classes)\n",
    "    for seq,each_class in enumerate(classes):\n",
    "        idxs=np.flatnonzero(y==int(each_class))\n",
    "        idxs=np.random.choice(idxs,num_img_show)\n",
    "        for i,idx in enumerate(idxs):\n",
    "            plt.subplot(num_img_show,cla_len,i*cla_len+seq+1)\n",
    "            plt.imshow(X[idx].reshape([20,20]))\n",
    "            plt.axis('off')\n",
    "#独热码转换\n",
    "def onehot_trans(y):\n",
    "    ret = np.zeros([y.shape[0],10])\n",
    "    for i,each in enumerate(y):\n",
    "        ret[i,each]=1\n",
    "    return ret\n",
    "def sigmoid(z):\n",
    "    return 1/(1+np.exp(-z))\n",
    "#增加常数1\n",
    "def add_one(X):\n",
    "    return np.insert(X,0,1,axis=1)\n",
    "#参数合并\n",
    "def merge(theta_1,theta_2):\n",
    "    return np.r_[theta_1.flatten(),theta_2.flatten()]\n",
    "#参数分离\n",
    "def divide(theta):\n",
    "    return theta[:50*401].reshape([401,50]),theta[401*50:].reshape([51,10])\n",
    "#前向传播\n",
    "def forward(theta,X,num_hidden=50):\n",
    "    theta_1,theta_2=divide(theta)\n",
    "    z2=X@theta_1\n",
    "    a2=add_one(sigmoid(z2))#有一项偏置项,加上一列1\n",
    "    z3=a2@theta_2\n",
    "    a3=sigmoid(z3)#a3即为预测输出y_pred\n",
    "    return X,z2,a2,z3,a3\n",
    "# X:m*(n+1) theta:(n+1)*k y:m*k   其中m=5000 n=500 k=10 \n",
    "def cost(theta,X,y):\n",
    "    J=0\n",
    "    a1,z2,a2,z3,h=forward(theta,X)\n",
    "    for i in range(X.shape[0]):\n",
    "        J+=np.sum(-y[i]*np.log(h[i])-(1-y[i])*np.log(1-h[i]))\n",
    "    return J/X.shape[0]\n",
    "              \n",
    "def cost_reg(theta,X,y,L):\n",
    "    theta_1,theta_2=divide(theta)\n",
    "    reg=np.sum(theta_1[1:,:]**2)+np.sum(theta_2[1:,:]**2)\n",
    "    return reg*L/(2*X.shape[0])+cost(theta,X,y)\n",
    "#sigmoid的梯度\n",
    "def sigmoid_grad(z):\n",
    "    return sigmoid(z)*(1-sigmoid(z))\n",
    "#所有参数的梯度\n",
    "def gradient(theta,X,y):\n",
    "    a1,z2,a2,z3,y_pre = forward(theta,X)\n",
    "    theta_1,theta_2=divide(theta)\n",
    "    delta_3=y_pre-y         #d3:5000*10\n",
    "    delta_2=delta_3@(theta_2.T[:,1:])*sigmoid_grad(z2)    #5000*10 @ 10*50 * 5000*50 \n",
    "    D2=a2.T @ delta_3           #51*5000  @ 5000*10\n",
    "    D1=a1.T @ delta_2           #401*5000 @ 5000*50   \n",
    "    return 1/X.shape[0]*merge(D1,D2)\n",
    "#产生-1到1之间的随机数\n",
    "def gradient_reg(theta,X,y,L):\n",
    "    D1,D2=divide(gradient(theta,X,y))\n",
    "    theta_1,theta_2=divide(theta)\n",
    "    D1_grad=D1 + L/X.shape[0]*theta_1\n",
    "    D2_grad=D2 + L/X.shape[0]*theta_2\n",
    "    return merge(D1_grad,D2_grad)\n",
    "def random_init(size):\n",
    "    return np.random.uniform(-1, 1, size)\n",
    "#训练过程\n",
    "def training_gradient(X, y,max_iter=500,a=0.1,L=1,hidden_layer=50):\n",
    "    theta=random_init(X.shape[1]*hidden_layer+(hidden_layer+1)*y.shape[1])\n",
    "    J=np.zeros(max_iter)\n",
    "    for i in range(max_iter):\n",
    "        grad=gradient_reg(theta,X,y,L)\n",
    "        J[i]=cost_reg(theta,X,y,L)\n",
    "        theta=theta-a*grad\n",
    "    return theta,J\n",
    "def accuracy(theta,X,y):\n",
    "    _,_,_,_,h=forward(theta,X)\n",
    "    y_pred=np.argmax(h,axis=1).reshape([-1,1])\n",
    "    print(classification_report(y_pred,y_adj))"
   ]
  },
  {
   "cell_type": "code",
   "execution_count": 17,
   "metadata": {},
   "outputs": [
    {
     "name": "stdout",
     "output_type": "stream",
     "text": [
      "             precision    recall  f1-score   support\n",
      "\n",
      "          0       0.90      0.85      0.88       528\n",
      "          1       0.96      0.85      0.90       568\n",
      "          2       0.82      0.77      0.79       532\n",
      "          3       0.76      0.78      0.77       486\n",
      "          4       0.82      0.79      0.80       519\n",
      "          5       0.60      0.79      0.69       381\n",
      "          6       0.87      0.83      0.85       522\n",
      "          7       0.89      0.87      0.88       513\n",
      "          8       0.74      0.75      0.74       496\n",
      "          9       0.71      0.78      0.74       455\n",
      "\n",
      "avg / total       0.82      0.81      0.81      5000\n",
      "\n"
     ]
    }
   ],
   "source": [
    "data = loadmat(\"ex4data1.mat\")\n",
    "X = data['X']\n",
    "y= data['y']\n",
    "y_adj=Adjust_label(y)\n",
    "#show_data(X,y_adj)\n",
    "y=onehot_trans(y_adj)\n",
    "X=add_one(X)\n",
    "max_iter=500\n",
    "theta,J=training_gradient(X,y,max_iter)\n",
    "accuracy(theta,X,y_adj)\n",
    "\n"
   ]
  },
  {
   "cell_type": "code",
   "execution_count": 18,
   "metadata": {},
   "outputs": [
    {
     "data": {
      "text/plain": [
       "[<matplotlib.lines.Line2D at 0x271978c1b00>]"
      ]
     },
     "execution_count": 18,
     "metadata": {},
     "output_type": "execute_result"
    },
    {
     "data": {
      "image/png": "[encoded data removed]",
      "text/plain": [
       "<Figure size 432x288 with 1 Axes>"
      ]
     },
     "metadata": {
      "needs_background": "light"
     },
     "output_type": "display_data"
    }
   ],
   "source": [
    "plt.plot(np.arange(max_iter),J,'r-')"
   ]
  },
  {
   "cell_type": "code",
   "execution_count": null,
   "metadata": {},
   "outputs": [],
   "source": []
  }
 ],
 "metadata": {
  "kernelspec": {
   "display_name": "Python 3",
   "language": "python",
   "name": "python3"
  },
  "language_info": {
   "codemirror_mode": {
    "name": "ipython",
    "version": 3
   },
   "file_extension": ".py",
   "mimetype": "text/x-python",
   "name": "python",
   "nbconvert_exporter": "python",
   "pygments_lexer": "ipython3",
   "version": "3.7.0"
  }
 },
 "nbformat": 4,
 "nbformat_minor": 2
}
