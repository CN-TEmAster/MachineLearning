{
 "cells": [
  {
   "cell_type": "code",
   "execution_count": 1,
   "metadata": {},
   "outputs": [],
   "source": [
    "import numpy as np\n",
    "import matplotlib.pyplot as plt"
   ]
  },
  {
   "cell_type": "code",
   "execution_count": 61,
   "metadata": {},
   "outputs": [],
   "source": [
    "def readData(filename):\n",
    "    f = open(filename)\n",
    "    ret=[]\n",
    "    for each_line in f.readlines():\n",
    "        data_arr=each_line.strip().split(\",\")\n",
    "        temp=[]\n",
    "        for i in range(len(data_arr)):\n",
    "            temp.append(float(data_arr[i]))\n",
    "        ret.append(temp)\n",
    "    return np.array(ret)\n",
    "def normalization(x):\n",
    "    n=x.shape[1]\n",
    "    for i in range(n):\n",
    "        x_max=np.max(x[:,i])\n",
    "        x_min=np.min(x[:,i])\n",
    "        x[:,i]=(x[:,i]-x_min)/(x_max-x_min)\n",
    "    return x\n",
    "\n"
   ]
  },
  {
   "cell_type": "code",
   "execution_count": 62,
   "metadata": {},
   "outputs": [],
   "source": [
    "data= readData(\"ex1data2.txt\")"
   ]
  },
  {
   "cell_type": "code",
   "execution_count": 81,
   "metadata": {},
   "outputs": [
    {
     "name": "stdout",
     "output_type": "stream",
     "text": [
      "梯度下降法结果为:\n",
      "[[182975.89751039]\n",
      " [465843.4413692 ]\n",
      " [ 17736.28231105]]\n",
      "正规方程法的结果为:\n",
      "[[199467.38469349]\n",
      " [504777.90398791]\n",
      " [-34952.07644931]]\n"
     ]
    },
    {
     "data": {
      "image/png": "[encoded data removed]",
      "text/plain": [
       "<Figure size 432x288 with 1 Axes>"
      ]
     },
     "metadata": {
      "needs_background": "light"
     },
     "output_type": "display_data"
    }
   ],
   "source": [
    "x = data[:,:-1]\n",
    "y = data[:,-1:]\n",
    "m=x.shape[0]#样本的数目\n",
    "n=x.shape[1]#特征的数目\n",
    "x_norm=normalization(x)#特征的归一化\n",
    "one=np.ones([m,1])\n",
    "X=np.hstack([one,x_norm])\n",
    "\n",
    "theta=np.array([[10000],[0],[0]])\n",
    "a=0.01\n",
    "max_iter=10000\n",
    "J=[]\n",
    "for i in range(max_iter):\n",
    "    J.append(np.sum(np.square(X.dot(theta)-y))/(2*m))\n",
    "    d=X.T.dot(X.dot(theta)-y)/m\n",
    "    theta = theta - a*d\n",
    "plt.plot(np.arange(max_iter),J,'-r')\n",
    "print(\"梯度下降法结果为:\\n\"+str(theta))\n",
    "print(\"正规方程法的结果为:\\n\"+str(np.linalg.pinv(X.T.dot(X)).dot(X.T).dot(y)))"
   ]
  }
 ],
 "metadata": {
  "kernelspec": {
   "display_name": "Python 3",
   "language": "python",
   "name": "python3"
  },
  "language_info": {
   "codemirror_mode": {
    "name": "ipython",
    "version": 3
   },
   "file_extension": ".py",
   "mimetype": "text/x-python",
   "name": "python",
   "nbconvert_exporter": "python",
   "pygments_lexer": "ipython3",
   "version": "3.7.0"
  }
 },
 "nbformat": 4,
 "nbformat_minor": 2
}
