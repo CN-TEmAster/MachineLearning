{
 "cells": [
  {
   "cell_type": "code",
   "execution_count": 2,
   "metadata": {},
   "outputs": [
    {
     "data": {
      "image/png": "[encoded data removed]",
      "text/plain": [
       "<Figure size 432x288 with 1 Axes>"
      ]
     },
     "metadata": {
      "needs_background": "light"
     },
     "output_type": "display_data"
    }
   ],
   "source": [
    "import numpy as np\n",
    "import matplotlib.pyplot as plt\n",
    "#载入数据\n",
    "filename=\"ex1data1.txt\"\n",
    "data = []\n",
    "f=open(filename)\n",
    "for each_line in f:\n",
    "    dataArr=each_line.strip().split(\",\")\n",
    "    dataLen=len(dataArr)\n",
    "    temp=[]\n",
    "    for i in range(dataLen):\n",
    "        temp.append(float(dataArr[i]))\n",
    "    data.append(temp)\n",
    "data=np.array(data)\n",
    "#获取横纵坐标\n",
    "x=data[:,0]\n",
    "y=data[:,1]\n",
    "#设置线性回归参数\n",
    "theta0=0\n",
    "theta1=0\n",
    "#学习率以及迭代次数\n",
    "a=0.01\n",
    "max_iter=1000\n",
    "#计算点的总数目\n",
    "m=x.shape[0]\n",
    "#预测值以及代价函数\n",
    "for i in range(max_iter):\n",
    "    y_pre=theta0+np.multiply(theta1,x)\n",
    "    J=np.sum((y_pre-y)**2)/(2*m)\n",
    "    #偏导数的计算\n",
    "    d0=np.sum(y_pre-y)/m\n",
    "    d1=np.sum(np.multiply(x,y_pre-y))/m\n",
    "    theta0=theta0-d0*a\n",
    "    theta1=theta1-d1*a\n",
    "#绘制原始数据散点图\n",
    "plt.plot(x,y,'.')\n",
    "plt.xlabel('x')\n",
    "plt.ylabel('y')\n",
    "#绘制线性回归图\n",
    "x_new=np.linspace(min(x),max(x),num=100)\n",
    "y_new=theta0+np.multiply(x_new,theta1)\n",
    "plt.plot(x_new,y_new,color='r')\n",
    "plt.show()"
   ]
  },
  {
   "cell_type": "code",
   "execution_count": null,
   "metadata": {},
   "outputs": [],
   "source": []
  }
 ],
 "metadata": {
  "kernelspec": {
   "display_name": "Python 3",
   "language": "python",
   "name": "python3"
  },
  "language_info": {
   "codemirror_mode": {
    "name": "ipython",
    "version": 3
   },
   "file_extension": ".py",
   "mimetype": "text/x-python",
   "name": "python",
   "nbconvert_exporter": "python",
   "pygments_lexer": "ipython3",
   "version": "3.7.0"
  }
 },
 "nbformat": 4,
 "nbformat_minor": 2
}
