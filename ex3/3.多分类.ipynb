{
 "cells": [
  {
   "cell_type": "code",
   "execution_count": 99,
   "metadata": {},
   "outputs": [
    {
     "data": {
      "text/plain": [
       "{'divide': 'ignore', 'over': 'warn', 'under': 'ignore', 'invalid': 'ignore'}"
      ]
     },
     "execution_count": 99,
     "metadata": {},
     "output_type": "execute_result"
    }
   ],
   "source": [
    "from sklearn.datasets import load_digits\n",
    "import numpy as np\n",
    "import matplotlib.pyplot as plt\n",
    "from scipy import optimize\n",
    "np.seterr(divide='ignore', invalid='ignore')"
   ]
  },
  {
   "cell_type": "code",
   "execution_count": 2,
   "metadata": {},
   "outputs": [],
   "source": [
    "digits = load_digits()\n",
    "data = digits.data\n",
    "label=digits.target"
   ]
  },
  {
   "cell_type": "code",
   "execution_count": 7,
   "metadata": {},
   "outputs": [
    {
     "data": {
      "image/png": "[encoded data removed]",
      "text/plain": [
       "<Figure size 432x288 with 50 Axes>"
      ]
     },
     "metadata": {
      "needs_background": "light"
     },
     "output_type": "display_data"
    }
   ],
   "source": [
    "#Randomly select 50 data points to display\n",
    "classes = ['0', '1', '2', '3', '4', '5', '6', '7', '8', '9']\n",
    "num_classes = len(classes)\n",
    "samples_per_class = 5\n",
    "for y, cla in enumerate(classes):\n",
    "    idxs = np.flatnonzero(label == y)\n",
    "    idxs = np.random.choice(idxs, samples_per_class, replace=False)\n",
    "    for i, idx in enumerate(idxs):\n",
    "        plt_idx = i * num_classes + y + 1\n",
    "        plt.subplot(samples_per_class, num_classes, plt_idx)\n",
    "        plt.imshow(digits.images[idx].astype('uint8'))\n",
    "        plt.axis('off')\n",
    "        if i == 0:\n",
    "            plt.title(cla)\n",
    "plt.show()"
   ]
  },
  {
   "cell_type": "code",
   "execution_count": 92,
   "metadata": {},
   "outputs": [],
   "source": [
    "#x:[m,n] X:[m,n+1] y:[m,] theta:[n+1,1] k:number of the class l:regulation paramiter\n",
    "def sigmoid(z):\n",
    "    return 1/(1+np.exp(-z))\n",
    "def h(theta,X):\n",
    "    return sigmoid(X@theta)\n",
    "def cost(theta,X,y,L):\n",
    "    return -y@np.log(h(theta,X))/(2*X.shape[0])-(1-y)@np.log(1-h(theta,X))/(2*X.shape[0])+L*theta.T@theta/(2*X.shape[0])\n",
    "def add_one(x):\n",
    "    m,n=x.shape\n",
    "    one=np.ones([m,1])\n",
    "    return np.c_[one,x]\n",
    "def grad(theta,X,y,L):\n",
    "    return (X.T@(h(theta,X)-y)+L*np.r_[0,theta[1:]])/X.shape[0]\n",
    "def train(X,y,k,L):\n",
    "    m,n=X.shape\n",
    "    theta_arr=np.zeros([n,k])\n",
    "    for i in range(k):\n",
    "        theta=np.zeros(n)\n",
    "        y_i=np.array([1 if label==i else 0 for label in y])\n",
    "        res = optimize.fmin_cg(cost,x0=theta,fprime=grad,args=(X,y_i,L),maxiter=500)\n",
    "        theta_arr[:,i]=res\n",
    "    return theta_arr\n",
    "def predict(theta,X):\n",
    "    y_pre=np.argmax(h(theta,X),axis=1)\n",
    "    return y_pre"
   ]
  },
  {
   "cell_type": "code",
   "execution_count": 100,
   "metadata": {
    "scrolled": true
   },
   "outputs": [
    {
     "name": "stdout",
     "output_type": "stream",
     "text": [
      "Warning: Desired error not necessarily achieved due to precision loss.\n",
      "         Current function value: 0.000149\n",
      "         Iterations: 35\n",
      "         Function evaluations: 127\n",
      "         Gradient evaluations: 115\n",
      "Warning: Desired error not necessarily achieved due to precision loss.\n",
      "         Current function value: 0.015410\n",
      "         Iterations: 256\n",
      "         Function evaluations: 675\n",
      "         Gradient evaluations: 662\n",
      "Warning: Desired error not necessarily achieved due to precision loss.\n",
      "         Current function value: 0.000242\n",
      "         Iterations: 47\n",
      "         Function evaluations: 234\n",
      "         Gradient evaluations: 222\n",
      "Warning: Maximum number of iterations has been exceeded.\n",
      "         Current function value: nan\n",
      "         Iterations: 500\n",
      "         Function evaluations: 5293\n",
      "         Gradient evaluations: 5293\n",
      "Warning: Desired error not necessarily achieved due to precision loss.\n",
      "         Current function value: 0.000311\n",
      "         Iterations: 44\n",
      "         Function evaluations: 172\n",
      "         Gradient evaluations: 160\n",
      "Optimization terminated successfully.\n",
      "         Current function value: nan\n",
      "         Iterations: 453\n",
      "         Function evaluations: 6605\n",
      "         Gradient evaluations: 6602\n",
      "Warning: Desired error not necessarily achieved due to precision loss.\n",
      "         Current function value: 0.000521\n",
      "         Iterations: 73\n",
      "         Function evaluations: 306\n",
      "         Gradient evaluations: 294\n",
      "Optimization terminated successfully.\n",
      "         Current function value: nan\n",
      "         Iterations: 134\n",
      "         Function evaluations: 1379\n",
      "         Gradient evaluations: 1379\n",
      "Warning: Desired error not necessarily achieved due to precision loss.\n",
      "         Current function value: 0.038055\n",
      "         Iterations: 380\n",
      "         Function evaluations: 1030\n",
      "         Gradient evaluations: 1016\n",
      "Warning: Desired error not necessarily achieved due to precision loss.\n",
      "         Current function value: 0.011920\n",
      "         Iterations: 273\n",
      "         Function evaluations: 703\n",
      "         Gradient evaluations: 688\n"
     ]
    }
   ],
   "source": [
    "#main function\n",
    "X=add_one(data)\n",
    "y=label\n",
    "k=10\n",
    "L=0.1\n",
    "theta=train(X,y,k,L)"
   ]
  },
  {
   "cell_type": "code",
   "execution_count": 102,
   "metadata": {},
   "outputs": [
    {
     "name": "stdout",
     "output_type": "stream",
     "text": [
      "Accuracy:0.9944351697273233\n"
     ]
    }
   ],
   "source": [
    "y_pre=predict(theta,X)\n",
    "print(\"Accuracy:\"+str(np.mean(y_pre==y)))"
   ]
  },
  {
   "cell_type": "code",
   "execution_count": null,
   "metadata": {},
   "outputs": [],
   "source": []
  }
 ],
 "metadata": {
  "kernelspec": {
   "display_name": "Python 3",
   "language": "python",
   "name": "python3"
  },
  "language_info": {
   "codemirror_mode": {
    "name": "ipython",
    "version": 3
   },
   "file_extension": ".py",
   "mimetype": "text/x-python",
   "name": "python",
   "nbconvert_exporter": "python",
   "pygments_lexer": "ipython3",
   "version": "3.7.0"
  }
 },
 "nbformat": 4,
 "nbformat_minor": 2
}
